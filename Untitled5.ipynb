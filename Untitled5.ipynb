{
 "cells": [
  {
   "cell_type": "code",
   "execution_count": 1,
   "id": "a41c303f",
   "metadata": {},
   "outputs": [],
   "source": [
    "import numpy as np\n",
    "import pandas as pd\n",
    "import matplotlib.pyplot as plt\n",
    "import seaborn as sns"
   ]
  },
  {
   "cell_type": "code",
   "execution_count": 2,
   "id": "0b4411f6",
   "metadata": {},
   "outputs": [
    {
     "ename": "SyntaxError",
     "evalue": "invalid syntax (<ipython-input-2-1097e0a0abcc>, line 2)",
     "output_type": "error",
     "traceback": [
      "\u001b[1;36m  File \u001b[1;32m\"<ipython-input-2-1097e0a0abcc>\"\u001b[1;36m, line \u001b[1;32m2\u001b[0m\n\u001b[1;33m    1.传参进入函数若在函数中改变参数参数会改变\u001b[0m\n\u001b[1;37m      ^\u001b[0m\n\u001b[1;31mSyntaxError\u001b[0m\u001b[1;31m:\u001b[0m invalid syntax\n"
     ]
    }
   ],
   "source": [
    "#注意\n",
    "1.传参进入函数若在函数中改变参数参数会改变\n",
    "2.@可以实现数组的矩阵乘法\n",
    "3.实现特征映射的方法\n",
    "4.我这里尝试了很多种不同的特征数量，这个版本应该过拟合了"
   ]
  },
  {
   "cell_type": "markdown",
   "id": "462127ff",
   "metadata": {},
   "source": [
    "## 总结一下卡了好几天的代码的收获\n",
    "1.如何画出两种点，这个有两种方法一个是先分开另一个是直接使用sns的函数\n",
    "\n",
    "2.这里上面是非正则化版本的logistic回归下面是正则化版本的：所谓的正则化就是防止过拟合，那么正则化的lamda越大就力度越大。\n",
    "\n",
    "3.对于正则化和非正则化主要区别在于代价函数和梯度下降函数\n",
    "\n",
    "4.可以自己算出来代价函数还有梯度下降的函数然后直接使用scipy的optimize\n",
    "\n",
    "5.scipy 的optimize 最好传入的是数组作为参数，这里还是没有十分明白，@ 可以实现数组的矩阵方式乘法\n",
    "\n",
    "6.如何做特征工程\n",
    "\n"
   ]
  },
  {
   "cell_type": "code",
   "execution_count": 39,
   "id": "d7c21d4a",
   "metadata": {},
   "outputs": [
    {
     "data": {
      "text/html": [
       "<div>\n",
       "<style scoped>\n",
       "    .dataframe tbody tr th:only-of-type {\n",
       "        vertical-align: middle;\n",
       "    }\n",
       "\n",
       "    .dataframe tbody tr th {\n",
       "        vertical-align: top;\n",
       "    }\n",
       "\n",
       "    .dataframe thead th {\n",
       "        text-align: right;\n",
       "    }\n",
       "</style>\n",
       "<table border=\"1\" class=\"dataframe\">\n",
       "  <thead>\n",
       "    <tr style=\"text-align: right;\">\n",
       "      <th></th>\n",
       "      <th>exam1</th>\n",
       "      <th>exam2</th>\n",
       "      <th>outcome</th>\n",
       "    </tr>\n",
       "  </thead>\n",
       "  <tbody>\n",
       "    <tr>\n",
       "      <th>0</th>\n",
       "      <td>34.623660</td>\n",
       "      <td>78.024693</td>\n",
       "      <td>0</td>\n",
       "    </tr>\n",
       "    <tr>\n",
       "      <th>1</th>\n",
       "      <td>30.286711</td>\n",
       "      <td>43.894998</td>\n",
       "      <td>0</td>\n",
       "    </tr>\n",
       "    <tr>\n",
       "      <th>2</th>\n",
       "      <td>35.847409</td>\n",
       "      <td>72.902198</td>\n",
       "      <td>0</td>\n",
       "    </tr>\n",
       "    <tr>\n",
       "      <th>3</th>\n",
       "      <td>60.182599</td>\n",
       "      <td>86.308552</td>\n",
       "      <td>1</td>\n",
       "    </tr>\n",
       "    <tr>\n",
       "      <th>4</th>\n",
       "      <td>79.032736</td>\n",
       "      <td>75.344376</td>\n",
       "      <td>1</td>\n",
       "    </tr>\n",
       "  </tbody>\n",
       "</table>\n",
       "</div>"
      ],
      "text/plain": [
       "       exam1      exam2  outcome\n",
       "0  34.623660  78.024693        0\n",
       "1  30.286711  43.894998        0\n",
       "2  35.847409  72.902198        0\n",
       "3  60.182599  86.308552        1\n",
       "4  79.032736  75.344376        1"
      ]
     },
     "execution_count": 39,
     "metadata": {},
     "output_type": "execute_result"
    }
   ],
   "source": [
    "path = 'ex2data1.txt'\n",
    "data = pd.read_csv(path,names=['exam1','exam2','outcome'])\n",
    "data.head()"
   ]
  },
  {
   "cell_type": "code",
   "execution_count": 40,
   "id": "de816498",
   "metadata": {},
   "outputs": [
    {
     "data": {
      "text/plain": [
       "[]"
      ]
     },
     "execution_count": 40,
     "metadata": {},
     "output_type": "execute_result"
    },
    {
     "data": {
      "image/png": "[encoded data removed]",
      "text/plain": [
       "<Figure size 864x576 with 1 Axes>"
      ]
     },
     "metadata": {},
     "output_type": "display_data"
    }
   ],
   "source": [
    "positive = data[data['outcome'].isin([1])]\n",
    "negitive = data[data['outcome'].isin([0])]\n",
    "fig,ax = plt.subplots(1,figsize=(12,8))\n",
    "ax.scatter(positive['exam1'],positive['exam2'],c='b')\n",
    "ax.scatter(negitive['exam1'],negitive['exam2'],c='g')\n",
    "ax.plot()"
   ]
  },
  {
   "cell_type": "code",
   "execution_count": 41,
   "id": "3fa98a6c",
   "metadata": {},
   "outputs": [],
   "source": [
    "data.insert(0,'ones',1)"
   ]
  },
  {
   "cell_type": "code",
   "execution_count": 42,
   "id": "f0a27dfa",
   "metadata": {},
   "outputs": [],
   "source": [
    "def cost(theta, X, y):\n",
    "    return np.mean(-y * np.log(sigmod(X @ theta)) - (1 - y) * np.log(1 - sigmod(X @ theta)))"
   ]
  },
  {
   "cell_type": "code",
   "execution_count": 43,
   "id": "5cc060e6",
   "metadata": {},
   "outputs": [],
   "source": [
    "def sigmod(z):\n",
    "    return 1/(1+np.exp(-z))"
   ]
  },
  {
   "cell_type": "code",
   "execution_count": null,
   "id": "79afe006",
   "metadata": {},
   "outputs": [],
   "source": []
  },
  {
   "cell_type": "code",
   "execution_count": 44,
   "id": "4b08622b",
   "metadata": {},
   "outputs": [],
   "source": [
    "theta=np.array([0,0,0])"
   ]
  },
  {
   "cell_type": "code",
   "execution_count": 45,
   "id": "d31b5275",
   "metadata": {},
   "outputs": [],
   "source": [
    "X=data.iloc[:,:-1]\n",
    "Y=data.iloc[:,-1]"
   ]
  },
  {
   "cell_type": "code",
   "execution_count": 46,
   "id": "540ce695",
   "metadata": {},
   "outputs": [],
   "source": [
    "X=np.array(X)\n",
    "Y=np.array(Y.values)"
   ]
  },
  {
   "cell_type": "code",
   "execution_count": 47,
   "id": "81758bed",
   "metadata": {},
   "outputs": [
    {
     "data": {
      "text/plain": [
       "((100, 3), (3,), (100,))"
      ]
     },
     "execution_count": 47,
     "metadata": {},
     "output_type": "execute_result"
    }
   ],
   "source": [
    "X.shape,theta.shape,Y.shape"
   ]
  },
  {
   "cell_type": "code",
   "execution_count": 48,
   "id": "b00a5c07",
   "metadata": {},
   "outputs": [
    {
     "data": {
      "text/plain": [
       "0.6931471805599453"
      ]
     },
     "execution_count": 48,
     "metadata": {},
     "output_type": "execute_result"
    }
   ],
   "source": [
    "cost(theta,X,Y)"
   ]
  },
  {
   "cell_type": "code",
   "execution_count": 49,
   "id": "12673167",
   "metadata": {},
   "outputs": [],
   "source": [
    "def gradient(theta,X,Y):\n",
    "    theta = np.matrix(theta).T\n",
    "    X = np.matrix(X)\n",
    "    Y= np.matrix(Y).T\n",
    "    return np.array(X.T*(sigmod(X*theta)-Y)/len(X)).ravel()"
   ]
  },
  {
   "cell_type": "code",
   "execution_count": 50,
   "id": "264f7808",
   "metadata": {},
   "outputs": [
    {
     "data": {
      "text/plain": [
       "array([ -0.1       , -12.00921659, -11.26284221])"
      ]
     },
     "execution_count": 50,
     "metadata": {},
     "output_type": "execute_result"
    }
   ],
   "source": [
    "gradient(theta,X,Y)"
   ]
  },
  {
   "cell_type": "code",
   "execution_count": 51,
   "id": "07672a1d",
   "metadata": {},
   "outputs": [],
   "source": [
    "from scipy import optimize"
   ]
  },
  {
   "cell_type": "code",
   "execution_count": 52,
   "id": "900fa998",
   "metadata": {},
   "outputs": [],
   "source": [
    "res = optimize.minimize(fun=cost,x0=theta,args=(X,Y),method='TNC',jac=gradient)"
   ]
  },
  {
   "cell_type": "code",
   "execution_count": 53,
   "id": "24b5ea91",
   "metadata": {},
   "outputs": [
    {
     "data": {
      "text/plain": [
       "     fun: 0.20349770158947467\n",
       "     jac: array([8.92139000e-09, 7.89044216e-08, 4.74611016e-07])\n",
       " message: 'Local minimum reached (|pg| ~= 0)'\n",
       "    nfev: 36\n",
       "     nit: 17\n",
       "  status: 0\n",
       " success: True\n",
       "       x: array([-25.1613186 ,   0.20623159,   0.20147149])"
      ]
     },
     "execution_count": 53,
     "metadata": {},
     "output_type": "execute_result"
    }
   ],
   "source": [
    "res"
   ]
  },
  {
   "cell_type": "code",
   "execution_count": 54,
   "id": "96b65d2a",
   "metadata": {},
   "outputs": [],
   "source": [
    "def predicted(X,theta):\n",
    "    temp = sigmod(X@theta)\n",
    "    return (temp>=0.5).astype(int)"
   ]
  },
  {
   "cell_type": "code",
   "execution_count": 55,
   "id": "533c3fd6",
   "metadata": {},
   "outputs": [],
   "source": [
    "pred=predicted(X,res.x)"
   ]
  },
  {
   "cell_type": "code",
   "execution_count": 56,
   "id": "1aa445dd",
   "metadata": {},
   "outputs": [],
   "source": [
    "from sklearn.metrics import classification_report"
   ]
  },
  {
   "cell_type": "code",
   "execution_count": 57,
   "id": "14b92f8c",
   "metadata": {},
   "outputs": [
    {
     "name": "stdout",
     "output_type": "stream",
     "text": [
      "              precision    recall  f1-score   support\n",
      "\n",
      "           0       0.87      0.85      0.86        40\n",
      "           1       0.90      0.92      0.91        60\n",
      "\n",
      "    accuracy                           0.89       100\n",
      "   macro avg       0.89      0.88      0.88       100\n",
      "weighted avg       0.89      0.89      0.89       100\n",
      "\n"
     ]
    }
   ],
   "source": [
    "print(classification_report(Y, pred))"
   ]
  },
  {
   "cell_type": "code",
   "execution_count": 58,
   "id": "baa7e578",
   "metadata": {},
   "outputs": [],
   "source": [
    "x = np.arange(130,step=0.1)\n",
    "y = -res.x[0]/res.x[2]-(res.x[1]/res.x[2])*x\n"
   ]
  },
  {
   "cell_type": "code",
   "execution_count": 59,
   "id": "1b481a45",
   "metadata": {},
   "outputs": [
    {
     "data": {
      "text/plain": [
       "1.0236266797297773"
      ]
     },
     "execution_count": 59,
     "metadata": {},
     "output_type": "execute_result"
    }
   ],
   "source": [
    "res.x[1]/res.x[2]"
   ]
  },
  {
   "cell_type": "code",
   "execution_count": 60,
   "id": "0f4acb25",
   "metadata": {},
   "outputs": [
    {
     "data": {
      "image/png": "[encoded data removed]",
      "text/plain": [
       "<Figure size 864x576 with 1 Axes>"
      ]
     },
     "metadata": {},
     "output_type": "display_data"
    }
   ],
   "source": [
    "fig,ax2 = plt.subplots(1,figsize=(12,8))\n",
    "ax2.plot(x,y,'grey')\n",
    "ax2.scatter(positive['exam1'],positive['exam2'],c='b')\n",
    "ax2.scatter(negitive['exam1'],negitive['exam2'],c='g')\n",
    "plt.show()"
   ]
  },
  {
   "cell_type": "code",
   "execution_count": 61,
   "id": "de3a42c1",
   "metadata": {},
   "outputs": [],
   "source": [
    "path2 = 'ex2data2.txt'\n",
    "data2 = pd.read_csv(path2,names = ['test1','test2','test3'])"
   ]
  },
  {
   "cell_type": "code",
   "execution_count": 62,
   "id": "945a8291",
   "metadata": {},
   "outputs": [
    {
     "data": {
      "text/html": [
       "<div>\n",
       "<style scoped>\n",
       "    .dataframe tbody tr th:only-of-type {\n",
       "        vertical-align: middle;\n",
       "    }\n",
       "\n",
       "    .dataframe tbody tr th {\n",
       "        vertical-align: top;\n",
       "    }\n",
       "\n",
       "    .dataframe thead th {\n",
       "        text-align: right;\n",
       "    }\n",
       "</style>\n",
       "<table border=\"1\" class=\"dataframe\">\n",
       "  <thead>\n",
       "    <tr style=\"text-align: right;\">\n",
       "      <th></th>\n",
       "      <th>test1</th>\n",
       "      <th>test2</th>\n",
       "      <th>test3</th>\n",
       "    </tr>\n",
       "  </thead>\n",
       "  <tbody>\n",
       "    <tr>\n",
       "      <th>0</th>\n",
       "      <td>0.051267</td>\n",
       "      <td>0.69956</td>\n",
       "      <td>1</td>\n",
       "    </tr>\n",
       "    <tr>\n",
       "      <th>1</th>\n",
       "      <td>-0.092742</td>\n",
       "      <td>0.68494</td>\n",
       "      <td>1</td>\n",
       "    </tr>\n",
       "    <tr>\n",
       "      <th>2</th>\n",
       "      <td>-0.213710</td>\n",
       "      <td>0.69225</td>\n",
       "      <td>1</td>\n",
       "    </tr>\n",
       "    <tr>\n",
       "      <th>3</th>\n",
       "      <td>-0.375000</td>\n",
       "      <td>0.50219</td>\n",
       "      <td>1</td>\n",
       "    </tr>\n",
       "    <tr>\n",
       "      <th>4</th>\n",
       "      <td>-0.513250</td>\n",
       "      <td>0.46564</td>\n",
       "      <td>1</td>\n",
       "    </tr>\n",
       "  </tbody>\n",
       "</table>\n",
       "</div>"
      ],
      "text/plain": [
       "      test1    test2  test3\n",
       "0  0.051267  0.69956      1\n",
       "1 -0.092742  0.68494      1\n",
       "2 -0.213710  0.69225      1\n",
       "3 -0.375000  0.50219      1\n",
       "4 -0.513250  0.46564      1"
      ]
     },
     "execution_count": 62,
     "metadata": {},
     "output_type": "execute_result"
    }
   ],
   "source": [
    "data2.head()"
   ]
  },
  {
   "cell_type": "code",
   "execution_count": 63,
   "id": "b4bec5ad",
   "metadata": {},
   "outputs": [
    {
     "name": "stderr",
     "output_type": "stream",
     "text": [
      "C:\\Users\\zgc\\anaconda3\\envs\\tfz\\lib\\site-packages\\seaborn\\_decorators.py:36: FutureWarning: Pass the following variables as keyword args: x, y. From version 0.12, the only valid positional argument will be `data`, and passing other arguments without an explicit keyword will result in an error or misinterpretation.\n",
      "  warnings.warn(\n",
      "C:\\Users\\zgc\\anaconda3\\envs\\tfz\\lib\\site-packages\\seaborn\\regression.py:580: UserWarning: The `size` parameter has been renamed to `height`; please update your code.\n",
      "  warnings.warn(msg, UserWarning)\n"
     ]
    },
    {
     "data": {
      "image/png": "[encoded data removed]",
      "text/plain": [
       "<Figure size 500.525x432 with 1 Axes>"
      ]
     },
     "metadata": {},
     "output_type": "display_data"
    }
   ],
   "source": [
    "sns.set(context=\"notebook\", style=\"ticks\", font_scale=1.5)\n",
    "\n",
    "sns.lmplot('test1', 'test2', hue='test3', data=data2, \n",
    "           size=6, \n",
    "           fit_reg=False, \n",
    "           scatter_kws={\"s\": 50}\n",
    "          )\n",
    "\n",
    "plt.title('Regularized Logistic Regression')\n",
    "plt.show()"
   ]
  },
  {
   "cell_type": "code",
   "execution_count": 64,
   "id": "299f7df7",
   "metadata": {},
   "outputs": [],
   "source": [
    "#接下来是特征工程，即特征映射\n"
   ]
  },
  {
   "cell_type": "code",
   "execution_count": 65,
   "id": "4d1c45fe",
   "metadata": {},
   "outputs": [],
   "source": [
    "def feature_mapping(X,Y,power,data):\n",
    "    for i in range(0,power+1):\n",
    "        for j in range(0,i+1):\n",
    "            data['f'+str(i)+str(j)] = np.power(X,i-j)*np.power(Y,j)\n",
    "    return pd.DataFrame(data)"
   ]
  },
  {
   "cell_type": "code",
   "execution_count": 66,
   "id": "7534b448",
   "metadata": {},
   "outputs": [],
   "source": [
    "x1 = np.array(data2['test1'])\n",
    "x2 = np.array(data2['test2'])"
   ]
  },
  {
   "cell_type": "code",
   "execution_count": 67,
   "id": "e0798938",
   "metadata": {},
   "outputs": [],
   "source": [
    "y=data2['test3']"
   ]
  },
  {
   "cell_type": "code",
   "execution_count": 68,
   "id": "4c200044",
   "metadata": {},
   "outputs": [
    {
     "data": {
      "text/html": [
       "<div>\n",
       "<style scoped>\n",
       "    .dataframe tbody tr th:only-of-type {\n",
       "        vertical-align: middle;\n",
       "    }\n",
       "\n",
       "    .dataframe tbody tr th {\n",
       "        vertical-align: top;\n",
       "    }\n",
       "\n",
       "    .dataframe thead th {\n",
       "        text-align: right;\n",
       "    }\n",
       "</style>\n",
       "<table border=\"1\" class=\"dataframe\">\n",
       "  <thead>\n",
       "    <tr style=\"text-align: right;\">\n",
       "      <th></th>\n",
       "      <th>test1</th>\n",
       "      <th>test2</th>\n",
       "      <th>test3</th>\n",
       "      <th>f00</th>\n",
       "      <th>f10</th>\n",
       "      <th>f11</th>\n",
       "      <th>f20</th>\n",
       "      <th>f21</th>\n",
       "      <th>f22</th>\n",
       "      <th>f30</th>\n",
       "      <th>...</th>\n",
       "      <th>f101</th>\n",
       "      <th>f102</th>\n",
       "      <th>f103</th>\n",
       "      <th>f104</th>\n",
       "      <th>f105</th>\n",
       "      <th>f106</th>\n",
       "      <th>f107</th>\n",
       "      <th>f108</th>\n",
       "      <th>f109</th>\n",
       "      <th>f1010</th>\n",
       "    </tr>\n",
       "  </thead>\n",
       "  <tbody>\n",
       "    <tr>\n",
       "      <th>0</th>\n",
       "      <td>0.051267</td>\n",
       "      <td>0.69956</td>\n",
       "      <td>1</td>\n",
       "      <td>1.0</td>\n",
       "      <td>0.051267</td>\n",
       "      <td>0.69956</td>\n",
       "      <td>0.002628</td>\n",
       "      <td>0.035864</td>\n",
       "      <td>0.489384</td>\n",
       "      <td>0.000135</td>\n",
       "      <td>...</td>\n",
       "      <td>1.711457e-12</td>\n",
       "      <td>2.335356e-11</td>\n",
       "      <td>3.186693e-10</td>\n",
       "      <td>4.348378e-09</td>\n",
       "      <td>5.933547e-08</td>\n",
       "      <td>8.096577e-07</td>\n",
       "      <td>0.000011</td>\n",
       "      <td>0.000151</td>\n",
       "      <td>0.002057</td>\n",
       "      <td>0.028070</td>\n",
       "    </tr>\n",
       "    <tr>\n",
       "      <th>1</th>\n",
       "      <td>-0.092742</td>\n",
       "      <td>0.68494</td>\n",
       "      <td>1</td>\n",
       "      <td>1.0</td>\n",
       "      <td>-0.092742</td>\n",
       "      <td>0.68494</td>\n",
       "      <td>0.008601</td>\n",
       "      <td>-0.063523</td>\n",
       "      <td>0.469143</td>\n",
       "      <td>-0.000798</td>\n",
       "      <td>...</td>\n",
       "      <td>-3.476487e-10</td>\n",
       "      <td>2.567537e-09</td>\n",
       "      <td>-1.896238e-08</td>\n",
       "      <td>1.400454e-07</td>\n",
       "      <td>-1.034296e-06</td>\n",
       "      <td>7.638727e-06</td>\n",
       "      <td>-0.000056</td>\n",
       "      <td>0.000417</td>\n",
       "      <td>-0.003077</td>\n",
       "      <td>0.022726</td>\n",
       "    </tr>\n",
       "    <tr>\n",
       "      <th>2</th>\n",
       "      <td>-0.213710</td>\n",
       "      <td>0.69225</td>\n",
       "      <td>1</td>\n",
       "      <td>1.0</td>\n",
       "      <td>-0.213710</td>\n",
       "      <td>0.69225</td>\n",
       "      <td>0.045672</td>\n",
       "      <td>-0.147941</td>\n",
       "      <td>0.479210</td>\n",
       "      <td>-0.009761</td>\n",
       "      <td>...</td>\n",
       "      <td>-6.437045e-07</td>\n",
       "      <td>2.085089e-06</td>\n",
       "      <td>-6.754027e-06</td>\n",
       "      <td>2.187766e-05</td>\n",
       "      <td>-7.086618e-05</td>\n",
       "      <td>2.295499e-04</td>\n",
       "      <td>-0.000744</td>\n",
       "      <td>0.002409</td>\n",
       "      <td>-0.007802</td>\n",
       "      <td>0.025271</td>\n",
       "    </tr>\n",
       "    <tr>\n",
       "      <th>3</th>\n",
       "      <td>-0.375000</td>\n",
       "      <td>0.50219</td>\n",
       "      <td>1</td>\n",
       "      <td>1.0</td>\n",
       "      <td>-0.375000</td>\n",
       "      <td>0.50219</td>\n",
       "      <td>0.140625</td>\n",
       "      <td>-0.188321</td>\n",
       "      <td>0.252195</td>\n",
       "      <td>-0.052734</td>\n",
       "      <td>...</td>\n",
       "      <td>-7.364605e-05</td>\n",
       "      <td>9.862483e-05</td>\n",
       "      <td>-1.320757e-04</td>\n",
       "      <td>1.768723e-04</td>\n",
       "      <td>-2.368627e-04</td>\n",
       "      <td>3.172002e-04</td>\n",
       "      <td>-0.000425</td>\n",
       "      <td>0.000569</td>\n",
       "      <td>-0.000762</td>\n",
       "      <td>0.001020</td>\n",
       "    </tr>\n",
       "    <tr>\n",
       "      <th>4</th>\n",
       "      <td>-0.513250</td>\n",
       "      <td>0.46564</td>\n",
       "      <td>1</td>\n",
       "      <td>1.0</td>\n",
       "      <td>-0.513250</td>\n",
       "      <td>0.46564</td>\n",
       "      <td>0.263426</td>\n",
       "      <td>-0.238990</td>\n",
       "      <td>0.216821</td>\n",
       "      <td>-0.135203</td>\n",
       "      <td>...</td>\n",
       "      <td>-1.150829e-03</td>\n",
       "      <td>1.044076e-03</td>\n",
       "      <td>-9.472259e-04</td>\n",
       "      <td>8.593595e-04</td>\n",
       "      <td>-7.796437e-04</td>\n",
       "      <td>7.073226e-04</td>\n",
       "      <td>-0.000642</td>\n",
       "      <td>0.000582</td>\n",
       "      <td>-0.000528</td>\n",
       "      <td>0.000479</td>\n",
       "    </tr>\n",
       "  </tbody>\n",
       "</table>\n",
       "<p>5 rows × 69 columns</p>\n",
       "</div>"
      ],
      "text/plain": [
       "      test1    test2  test3  f00       f10      f11       f20       f21  \\\n",
       "0  0.051267  0.69956      1  1.0  0.051267  0.69956  0.002628  0.035864   \n",
       "1 -0.092742  0.68494      1  1.0 -0.092742  0.68494  0.008601 -0.063523   \n",
       "2 -0.213710  0.69225      1  1.0 -0.213710  0.69225  0.045672 -0.147941   \n",
       "3 -0.375000  0.50219      1  1.0 -0.375000  0.50219  0.140625 -0.188321   \n",
       "4 -0.513250  0.46564      1  1.0 -0.513250  0.46564  0.263426 -0.238990   \n",
       "\n",
       "        f22       f30  ...          f101          f102          f103  \\\n",
       "0  0.489384  0.000135  ...  1.711457e-12  2.335356e-11  3.186693e-10   \n",
       "1  0.469143 -0.000798  ... -3.476487e-10  2.567537e-09 -1.896238e-08   \n",
       "2  0.479210 -0.009761  ... -6.437045e-07  2.085089e-06 -6.754027e-06   \n",
       "3  0.252195 -0.052734  ... -7.364605e-05  9.862483e-05 -1.320757e-04   \n",
       "4  0.216821 -0.135203  ... -1.150829e-03  1.044076e-03 -9.472259e-04   \n",
       "\n",
       "           f104          f105          f106      f107      f108      f109  \\\n",
       "0  4.348378e-09  5.933547e-08  8.096577e-07  0.000011  0.000151  0.002057   \n",
       "1  1.400454e-07 -1.034296e-06  7.638727e-06 -0.000056  0.000417 -0.003077   \n",
       "2  2.187766e-05 -7.086618e-05  2.295499e-04 -0.000744  0.002409 -0.007802   \n",
       "3  1.768723e-04 -2.368627e-04  3.172002e-04 -0.000425  0.000569 -0.000762   \n",
       "4  8.593595e-04 -7.796437e-04  7.073226e-04 -0.000642  0.000582 -0.000528   \n",
       "\n",
       "      f1010  \n",
       "0  0.028070  \n",
       "1  0.022726  \n",
       "2  0.025271  \n",
       "3  0.001020  \n",
       "4  0.000479  \n",
       "\n",
       "[5 rows x 69 columns]"
      ]
     },
     "execution_count": 68,
     "metadata": {},
     "output_type": "execute_result"
    }
   ],
   "source": [
    "data3 = feature_mapping(x1,x2,10,data2)\n",
    "data3.head()"
   ]
  },
  {
   "cell_type": "code",
   "execution_count": 69,
   "id": "dac86150",
   "metadata": {},
   "outputs": [],
   "source": [
    "data3=data3.iloc[:,3:]"
   ]
  },
  {
   "cell_type": "code",
   "execution_count": 70,
   "id": "ef3a38e8",
   "metadata": {},
   "outputs": [
    {
     "data": {
      "text/html": [
       "<div>\n",
       "<style scoped>\n",
       "    .dataframe tbody tr th:only-of-type {\n",
       "        vertical-align: middle;\n",
       "    }\n",
       "\n",
       "    .dataframe tbody tr th {\n",
       "        vertical-align: top;\n",
       "    }\n",
       "\n",
       "    .dataframe thead th {\n",
       "        text-align: right;\n",
       "    }\n",
       "</style>\n",
       "<table border=\"1\" class=\"dataframe\">\n",
       "  <thead>\n",
       "    <tr style=\"text-align: right;\">\n",
       "      <th></th>\n",
       "      <th>f00</th>\n",
       "      <th>f10</th>\n",
       "      <th>f11</th>\n",
       "      <th>f20</th>\n",
       "      <th>f21</th>\n",
       "      <th>f22</th>\n",
       "      <th>f30</th>\n",
       "      <th>f31</th>\n",
       "      <th>f32</th>\n",
       "      <th>f33</th>\n",
       "      <th>...</th>\n",
       "      <th>f101</th>\n",
       "      <th>f102</th>\n",
       "      <th>f103</th>\n",
       "      <th>f104</th>\n",
       "      <th>f105</th>\n",
       "      <th>f106</th>\n",
       "      <th>f107</th>\n",
       "      <th>f108</th>\n",
       "      <th>f109</th>\n",
       "      <th>f1010</th>\n",
       "    </tr>\n",
       "  </thead>\n",
       "  <tbody>\n",
       "    <tr>\n",
       "      <th>count</th>\n",
       "      <td>118.0</td>\n",
       "      <td>118.000000</td>\n",
       "      <td>118.000000</td>\n",
       "      <td>118.000000</td>\n",
       "      <td>118.000000</td>\n",
       "      <td>118.000000</td>\n",
       "      <td>1.180000e+02</td>\n",
       "      <td>118.000000</td>\n",
       "      <td>118.000000</td>\n",
       "      <td>118.000000</td>\n",
       "      <td>...</td>\n",
       "      <td>1.180000e+02</td>\n",
       "      <td>1.180000e+02</td>\n",
       "      <td>1.180000e+02</td>\n",
       "      <td>1.180000e+02</td>\n",
       "      <td>1.180000e+02</td>\n",
       "      <td>1.180000e+02</td>\n",
       "      <td>1.180000e+02</td>\n",
       "      <td>1.180000e+02</td>\n",
       "      <td>1.180000e+02</td>\n",
       "      <td>1.180000e+02</td>\n",
       "    </tr>\n",
       "    <tr>\n",
       "      <th>mean</th>\n",
       "      <td>1.0</td>\n",
       "      <td>0.054779</td>\n",
       "      <td>0.183102</td>\n",
       "      <td>0.247575</td>\n",
       "      <td>-0.025472</td>\n",
       "      <td>0.301370</td>\n",
       "      <td>5.983333e-02</td>\n",
       "      <td>0.030682</td>\n",
       "      <td>0.015483</td>\n",
       "      <td>0.142350</td>\n",
       "      <td>...</td>\n",
       "      <td>1.666277e-03</td>\n",
       "      <td>5.318746e-03</td>\n",
       "      <td>1.034778e-04</td>\n",
       "      <td>3.040300e-03</td>\n",
       "      <td>6.883363e-05</td>\n",
       "      <td>3.728850e-03</td>\n",
       "      <td>-5.005615e-04</td>\n",
       "      <td>9.919896e-03</td>\n",
       "      <td>-3.464200e-03</td>\n",
       "      <td>1.020867e-01</td>\n",
       "    </tr>\n",
       "    <tr>\n",
       "      <th>std</th>\n",
       "      <td>0.0</td>\n",
       "      <td>0.496654</td>\n",
       "      <td>0.519743</td>\n",
       "      <td>0.248532</td>\n",
       "      <td>0.224075</td>\n",
       "      <td>0.284536</td>\n",
       "      <td>2.746459e-01</td>\n",
       "      <td>0.134706</td>\n",
       "      <td>0.150143</td>\n",
       "      <td>0.326134</td>\n",
       "      <td>...</td>\n",
       "      <td>3.270108e-02</td>\n",
       "      <td>1.401976e-02</td>\n",
       "      <td>1.037912e-02</td>\n",
       "      <td>8.199982e-03</td>\n",
       "      <td>8.999227e-03</td>\n",
       "      <td>1.086785e-02</td>\n",
       "      <td>1.787292e-02</td>\n",
       "      <td>3.239311e-02</td>\n",
       "      <td>8.460621e-02</td>\n",
       "      <td>3.722619e-01</td>\n",
       "    </tr>\n",
       "    <tr>\n",
       "      <th>min</th>\n",
       "      <td>1.0</td>\n",
       "      <td>-0.830070</td>\n",
       "      <td>-0.769740</td>\n",
       "      <td>0.000040</td>\n",
       "      <td>-0.484096</td>\n",
       "      <td>0.000026</td>\n",
       "      <td>-5.719317e-01</td>\n",
       "      <td>-0.358121</td>\n",
       "      <td>-0.483743</td>\n",
       "      <td>-0.456071</td>\n",
       "      <td>...</td>\n",
       "      <td>-9.629816e-02</td>\n",
       "      <td>4.154654e-19</td>\n",
       "      <td>-3.807164e-02</td>\n",
       "      <td>1.654413e-15</td>\n",
       "      <td>-2.658637e-02</td>\n",
       "      <td>2.233143e-15</td>\n",
       "      <td>-1.131167e-01</td>\n",
       "      <td>1.657812e-19</td>\n",
       "      <td>-4.812764e-01</td>\n",
       "      <td>1.230706e-23</td>\n",
       "    </tr>\n",
       "    <tr>\n",
       "      <th>25%</th>\n",
       "      <td>1.0</td>\n",
       "      <td>-0.372120</td>\n",
       "      <td>-0.254385</td>\n",
       "      <td>0.043243</td>\n",
       "      <td>-0.178209</td>\n",
       "      <td>0.061086</td>\n",
       "      <td>-5.155632e-02</td>\n",
       "      <td>-0.023672</td>\n",
       "      <td>-0.042980</td>\n",
       "      <td>-0.016492</td>\n",
       "      <td>...</td>\n",
       "      <td>-2.499491e-04</td>\n",
       "      <td>3.190712e-07</td>\n",
       "      <td>-1.292165e-04</td>\n",
       "      <td>4.926304e-07</td>\n",
       "      <td>-1.886999e-04</td>\n",
       "      <td>1.372054e-06</td>\n",
       "      <td>-3.813760e-04</td>\n",
       "      <td>1.261911e-06</td>\n",
       "      <td>-1.980744e-03</td>\n",
       "      <td>8.750001e-07</td>\n",
       "    </tr>\n",
       "    <tr>\n",
       "      <th>50%</th>\n",
       "      <td>1.0</td>\n",
       "      <td>-0.006336</td>\n",
       "      <td>0.213455</td>\n",
       "      <td>0.165397</td>\n",
       "      <td>-0.016521</td>\n",
       "      <td>0.252195</td>\n",
       "      <td>-2.544062e-07</td>\n",
       "      <td>0.006603</td>\n",
       "      <td>-0.000039</td>\n",
       "      <td>0.009734</td>\n",
       "      <td>...</td>\n",
       "      <td>-2.358636e-10</td>\n",
       "      <td>7.528015e-05</td>\n",
       "      <td>-7.169183e-09</td>\n",
       "      <td>3.952184e-05</td>\n",
       "      <td>-1.601372e-09</td>\n",
       "      <td>6.938687e-05</td>\n",
       "      <td>-4.489879e-09</td>\n",
       "      <td>2.349402e-04</td>\n",
       "      <td>-9.687178e-09</td>\n",
       "      <td>1.020189e-03</td>\n",
       "    </tr>\n",
       "    <tr>\n",
       "      <th>75%</th>\n",
       "      <td>1.0</td>\n",
       "      <td>0.478970</td>\n",
       "      <td>0.646563</td>\n",
       "      <td>0.389925</td>\n",
       "      <td>0.100795</td>\n",
       "      <td>0.464189</td>\n",
       "      <td>1.099616e-01</td>\n",
       "      <td>0.086392</td>\n",
       "      <td>0.079510</td>\n",
       "      <td>0.270310</td>\n",
       "      <td>...</td>\n",
       "      <td>1.990047e-05</td>\n",
       "      <td>2.657392e-03</td>\n",
       "      <td>1.300154e-05</td>\n",
       "      <td>1.488900e-03</td>\n",
       "      <td>1.040952e-05</td>\n",
       "      <td>1.535721e-03</td>\n",
       "      <td>1.705464e-05</td>\n",
       "      <td>3.727489e-03</td>\n",
       "      <td>2.585553e-05</td>\n",
       "      <td>2.162350e-02</td>\n",
       "    </tr>\n",
       "    <tr>\n",
       "      <th>max</th>\n",
       "      <td>1.0</td>\n",
       "      <td>1.070900</td>\n",
       "      <td>1.108900</td>\n",
       "      <td>1.146827</td>\n",
       "      <td>0.568307</td>\n",
       "      <td>1.229659</td>\n",
       "      <td>1.228137e+00</td>\n",
       "      <td>0.449251</td>\n",
       "      <td>0.505577</td>\n",
       "      <td>1.363569</td>\n",
       "      <td>...</td>\n",
       "      <td>1.855202e-01</td>\n",
       "      <td>9.266468e-02</td>\n",
       "      <td>7.463629e-02</td>\n",
       "      <td>6.011542e-02</td>\n",
       "      <td>5.928096e-02</td>\n",
       "      <td>8.255459e-02</td>\n",
       "      <td>1.149654e-01</td>\n",
       "      <td>2.333247e-01</td>\n",
       "      <td>6.089941e-01</td>\n",
       "      <td>2.811408e+00</td>\n",
       "    </tr>\n",
       "  </tbody>\n",
       "</table>\n",
       "<p>8 rows × 66 columns</p>\n",
       "</div>"
      ],
      "text/plain": [
       "         f00         f10         f11         f20         f21         f22  \\\n",
       "count  118.0  118.000000  118.000000  118.000000  118.000000  118.000000   \n",
       "mean     1.0    0.054779    0.183102    0.247575   -0.025472    0.301370   \n",
       "std      0.0    0.496654    0.519743    0.248532    0.224075    0.284536   \n",
       "min      1.0   -0.830070   -0.769740    0.000040   -0.484096    0.000026   \n",
       "25%      1.0   -0.372120   -0.254385    0.043243   -0.178209    0.061086   \n",
       "50%      1.0   -0.006336    0.213455    0.165397   -0.016521    0.252195   \n",
       "75%      1.0    0.478970    0.646563    0.389925    0.100795    0.464189   \n",
       "max      1.0    1.070900    1.108900    1.146827    0.568307    1.229659   \n",
       "\n",
       "                f30         f31         f32         f33  ...          f101  \\\n",
       "count  1.180000e+02  118.000000  118.000000  118.000000  ...  1.180000e+02   \n",
       "mean   5.983333e-02    0.030682    0.015483    0.142350  ...  1.666277e-03   \n",
       "std    2.746459e-01    0.134706    0.150143    0.326134  ...  3.270108e-02   \n",
       "min   -5.719317e-01   -0.358121   -0.483743   -0.456071  ... -9.629816e-02   \n",
       "25%   -5.155632e-02   -0.023672   -0.042980   -0.016492  ... -2.499491e-04   \n",
       "50%   -2.544062e-07    0.006603   -0.000039    0.009734  ... -2.358636e-10   \n",
       "75%    1.099616e-01    0.086392    0.079510    0.270310  ...  1.990047e-05   \n",
       "max    1.228137e+00    0.449251    0.505577    1.363569  ...  1.855202e-01   \n",
       "\n",
       "               f102          f103          f104          f105          f106  \\\n",
       "count  1.180000e+02  1.180000e+02  1.180000e+02  1.180000e+02  1.180000e+02   \n",
       "mean   5.318746e-03  1.034778e-04  3.040300e-03  6.883363e-05  3.728850e-03   \n",
       "std    1.401976e-02  1.037912e-02  8.199982e-03  8.999227e-03  1.086785e-02   \n",
       "min    4.154654e-19 -3.807164e-02  1.654413e-15 -2.658637e-02  2.233143e-15   \n",
       "25%    3.190712e-07 -1.292165e-04  4.926304e-07 -1.886999e-04  1.372054e-06   \n",
       "50%    7.528015e-05 -7.169183e-09  3.952184e-05 -1.601372e-09  6.938687e-05   \n",
       "75%    2.657392e-03  1.300154e-05  1.488900e-03  1.040952e-05  1.535721e-03   \n",
       "max    9.266468e-02  7.463629e-02  6.011542e-02  5.928096e-02  8.255459e-02   \n",
       "\n",
       "               f107          f108          f109         f1010  \n",
       "count  1.180000e+02  1.180000e+02  1.180000e+02  1.180000e+02  \n",
       "mean  -5.005615e-04  9.919896e-03 -3.464200e-03  1.020867e-01  \n",
       "std    1.787292e-02  3.239311e-02  8.460621e-02  3.722619e-01  \n",
       "min   -1.131167e-01  1.657812e-19 -4.812764e-01  1.230706e-23  \n",
       "25%   -3.813760e-04  1.261911e-06 -1.980744e-03  8.750001e-07  \n",
       "50%   -4.489879e-09  2.349402e-04 -9.687178e-09  1.020189e-03  \n",
       "75%    1.705464e-05  3.727489e-03  2.585553e-05  2.162350e-02  \n",
       "max    1.149654e-01  2.333247e-01  6.089941e-01  2.811408e+00  \n",
       "\n",
       "[8 rows x 66 columns]"
      ]
     },
     "execution_count": 70,
     "metadata": {},
     "output_type": "execute_result"
    }
   ],
   "source": [
    "data3.describe()"
   ]
  },
  {
   "cell_type": "code",
   "execution_count": 71,
   "id": "208aad4b",
   "metadata": {},
   "outputs": [],
   "source": [
    "def cost2(theta,X,Y,lamda):\n",
    "    theta_1 = theta[1:]\n",
    "    return cost(theta,X,Y) + lamda*np.sum(np.power(theta_1,2))/(2*len(X))"
   ]
  },
  {
   "cell_type": "code",
   "execution_count": 72,
   "id": "0306af5a",
   "metadata": {},
   "outputs": [],
   "source": [
    "Theta = np.zeros(66)"
   ]
  },
  {
   "cell_type": "code",
   "execution_count": 73,
   "id": "84af15bf",
   "metadata": {},
   "outputs": [],
   "source": [
    "y.shape\n",
    "y=np.array(y)"
   ]
  },
  {
   "cell_type": "code",
   "execution_count": 74,
   "id": "f2b1dd8e",
   "metadata": {},
   "outputs": [],
   "source": [
    "data3 = np.array(data3)"
   ]
  },
  {
   "cell_type": "code",
   "execution_count": 75,
   "id": "3eb03b76",
   "metadata": {},
   "outputs": [
    {
     "data": {
      "text/plain": [
       "(66,)"
      ]
     },
     "execution_count": 75,
     "metadata": {},
     "output_type": "execute_result"
    }
   ],
   "source": [
    "Theta.shape"
   ]
  },
  {
   "cell_type": "code",
   "execution_count": 76,
   "id": "316615cf",
   "metadata": {},
   "outputs": [
    {
     "data": {
      "text/plain": [
       "0.6931471805599454"
      ]
     },
     "execution_count": 76,
     "metadata": {},
     "output_type": "execute_result"
    }
   ],
   "source": [
    "cost2(Theta,data3,y,1)"
   ]
  },
  {
   "cell_type": "code",
   "execution_count": 77,
   "id": "84d01392",
   "metadata": {},
   "outputs": [],
   "source": [
    "def r_gradient(theta,X,Y,lamda):\n",
    "    theta_1 =theta[1:]\n",
    "    r_term = np.concatenate([np.array([0]),theta_1/len(X)])\n",
    "    return gradient(theta,X,Y) + lamda*r_term"
   ]
  },
  {
   "cell_type": "code",
   "execution_count": 78,
   "id": "d5726726",
   "metadata": {},
   "outputs": [
    {
     "data": {
      "text/plain": [
       "array([8.47457627e-03, 1.87880932e-02, 7.77711864e-05, 5.03446395e-02,\n",
       "       1.15013308e-02, 3.76648474e-02, 1.83559872e-02, 7.32393391e-03,\n",
       "       8.19244468e-03, 2.34764889e-02, 3.93486234e-02, 2.23923907e-03,\n",
       "       1.28600503e-02, 3.09593720e-03, 3.93028171e-02, 1.99707467e-02,\n",
       "       4.32983232e-03, 3.38643902e-03, 5.83822078e-03, 4.47629067e-03,\n",
       "       3.10079849e-02, 3.10312442e-02, 1.09740238e-03, 6.31570797e-03,\n",
       "       4.08503006e-04, 7.26504316e-03, 1.37646175e-03, 3.87936363e-02,\n",
       "       1.99427086e-02, 2.74239681e-03, 2.32500787e-03, 2.21859968e-03,\n",
       "       1.37054473e-03, 4.59059364e-03, 2.44887343e-03, 3.45775396e-02,\n",
       "       2.58470812e-02, 9.24073316e-04, 3.56449986e-03, 2.36431492e-04,\n",
       "       2.73345994e-03, 1.41372690e-04, 5.06220460e-03, 7.44299593e-04,\n",
       "       3.91158180e-02, 1.94460178e-02, 2.03971305e-03, 1.67313910e-03,\n",
       "       9.57374855e-04, 8.28510751e-04, 1.45754709e-03, 5.55440822e-04,\n",
       "       3.80878101e-03, 1.42922173e-03, 3.74400380e-02, 2.27382094e-02,\n",
       "       1.00011095e-03, 2.22706585e-03, 1.51733578e-04, 1.25745954e-03,\n",
       "       1.48580695e-04, 1.57570852e-03, 3.59508725e-06, 3.99563605e-03,\n",
       "       5.22308844e-04, 4.06790884e-02])"
      ]
     },
     "execution_count": 78,
     "metadata": {},
     "output_type": "execute_result"
    }
   ],
   "source": [
    "r_gradient(Theta,data3,y,1)"
   ]
  },
  {
   "cell_type": "code",
   "execution_count": 79,
   "id": "20a811a6",
   "metadata": {},
   "outputs": [],
   "source": [
    "lamda=0"
   ]
  },
  {
   "cell_type": "code",
   "execution_count": 80,
   "id": "da90d2dc",
   "metadata": {},
   "outputs": [],
   "source": [
    "res = optimize.minimize(fun = cost2,x0=Theta,args=(data3,y,lamda),method='Newton-CG',jac=r_gradient)"
   ]
  },
  {
   "cell_type": "code",
   "execution_count": 81,
   "id": "575f5826",
   "metadata": {},
   "outputs": [
    {
     "data": {
      "text/plain": [
       "     fun: 0.21310123500496814\n",
       "     jac: array([-1.07597957e-03, -1.93612314e-03,  5.42557096e-04, -1.29531611e-04,\n",
       "        2.66534613e-04,  6.54455470e-04, -6.93764419e-04,  4.80052416e-04,\n",
       "       -2.47835367e-04,  3.35373021e-04,  1.24520383e-04,  8.06017224e-05,\n",
       "        1.53123960e-04, -1.98390573e-05,  5.85914620e-04, -1.91752812e-04,\n",
       "        1.96698088e-04, -8.92110376e-05,  1.97864718e-04, -7.83977843e-05,\n",
       "        3.01651320e-04,  1.86254151e-04,  1.47904729e-05,  8.43830928e-05,\n",
       "       -8.02620694e-06,  1.13608538e-04, -4.40787385e-05,  4.50489403e-04,\n",
       "       -1.91106143e-05,  7.65506938e-05, -4.12614016e-06,  6.78437848e-05,\n",
       "       -3.19965294e-05,  1.11255500e-04, -4.17780458e-05,  2.78823611e-04,\n",
       "        1.67673197e-04, -2.04499358e-05,  5.73321670e-05,  3.43831865e-06,\n",
       "        4.21826786e-05, -2.16057979e-05,  8.93438080e-05, -5.12048533e-05,\n",
       "        3.65517352e-04,  4.04630044e-05,  2.58366683e-05,  8.75991427e-06,\n",
       "        2.38381439e-05,  4.13771038e-06,  3.62441810e-05, -3.10630793e-05,\n",
       "        7.84984032e-05, -3.01892944e-05,  2.61078782e-04,  1.32801379e-04,\n",
       "       -2.63747146e-05,  3.85061968e-05, -3.91694129e-06,  2.06101868e-05,\n",
       "        5.15393057e-07,  2.81620333e-05, -3.06070510e-05,  7.37552782e-05,\n",
       "       -4.51078781e-05,  3.12235846e-04])\n",
       " message: \"Warning: CG iterations didn't converge. The Hessian is not positive definite.\"\n",
       "    nfev: 12\n",
       "    nhev: 0\n",
       "     nit: 10\n",
       "    njev: 4115\n",
       "  status: 3\n",
       " success: False\n",
       "       x: array([   6.5412925 ,   12.78972682,    8.32313225,  -29.84817201,\n",
       "         -4.32714978,  -10.49681529,  -73.92624819,   20.40444358,\n",
       "        -49.83559328,  -37.13482565,   30.28478825,  119.95203096,\n",
       "         93.19022607,  -78.3814798 ,  -41.90963381,   79.40841656,\n",
       "        -51.93144794,  287.0109185 ,  -55.83945445,   86.30360123,\n",
       "        104.1255709 ,   60.17701422, -416.72016044,  -46.29574587,\n",
       "        165.2105038 , -128.00383173,  -42.83031271,   84.16034749,\n",
       "        114.80048737,   44.48743535,  -43.59342663,   45.05498668,\n",
       "       -299.80744191,  116.39274256,  140.05756377,  -23.40016738,\n",
       "        -63.12394456,   71.09926201,  -65.10286297, -165.97390264,\n",
       "       -153.08393225,   55.09012175,  -67.86873225,   95.45052983,\n",
       "       -133.02414532,  -90.81937187,  108.15857945,   94.53874564,\n",
       "         77.45645613, -425.14298614,   56.14258424,   -3.2027222 ,\n",
       "         62.6955697 , -101.9310832 ,  -51.01460734, -186.94257543,\n",
       "        207.64770111,  -56.58644735,   55.35210158, -104.17815695,\n",
       "       -196.48039167,  -66.83237566,  178.06894   ,  -59.44728858,\n",
       "       -161.86175379,   80.45434436])"
      ]
     },
     "execution_count": 81,
     "metadata": {},
     "output_type": "execute_result"
    }
   ],
   "source": [
    "res"
   ]
  },
  {
   "cell_type": "code",
   "execution_count": 82,
   "id": "d4f2ad46",
   "metadata": {},
   "outputs": [],
   "source": [
    "final_theta = res.x\n",
    "y_pred = predicted(data3,final_theta)"
   ]
  },
  {
   "cell_type": "code",
   "execution_count": 83,
   "id": "195b9a20",
   "metadata": {},
   "outputs": [
    {
     "data": {
      "text/plain": [
       "array([1, 1, 1, 1, 1, 1, 1, 1, 1, 1, 1, 1, 1, 1, 1, 1, 1, 1, 1, 1, 0, 1,\n",
       "       1, 0, 1, 1, 1, 1, 1, 1, 1, 1, 1, 1, 1, 1, 1, 1, 1, 1, 1, 1, 1, 1,\n",
       "       1, 1, 1, 1, 1, 1, 1, 1, 1, 1, 1, 1, 1, 1, 0, 0, 1, 0, 0, 0, 0, 0,\n",
       "       0, 0, 0, 0, 0, 0, 0, 0, 0, 0, 1, 1, 0, 0, 1, 0, 0, 0, 0, 0, 0, 0,\n",
       "       1, 0, 0, 0, 0, 0, 0, 0, 0, 0, 0, 0, 0, 0, 0, 0, 1, 0, 0, 1, 0, 0,\n",
       "       0, 0, 0, 0, 1, 0, 0, 1])"
      ]
     },
     "execution_count": 83,
     "metadata": {},
     "output_type": "execute_result"
    }
   ],
   "source": [
    "y_pred"
   ]
  },
  {
   "cell_type": "code",
   "execution_count": 84,
   "id": "80126860",
   "metadata": {},
   "outputs": [
    {
     "name": "stdout",
     "output_type": "stream",
     "text": [
      "              precision    recall  f1-score   support\n",
      "\n",
      "           0       0.96      0.85      0.90        60\n",
      "           1       0.86      0.97      0.91        58\n",
      "\n",
      "    accuracy                           0.91       118\n",
      "   macro avg       0.91      0.91      0.91       118\n",
      "weighted avg       0.91      0.91      0.91       118\n",
      "\n"
     ]
    }
   ],
   "source": [
    "print(classification_report(y,y_pred))"
   ]
  },
  {
   "cell_type": "code",
   "execution_count": null,
   "id": "36c61b90",
   "metadata": {},
   "outputs": [],
   "source": []
  },
  {
   "cell_type": "code",
   "execution_count": null,
   "id": "26433211",
   "metadata": {},
   "outputs": [],
   "source": []
  },
  {
   "cell_type": "code",
   "execution_count": null,
   "id": "2a7575ad",
   "metadata": {},
   "outputs": [],
   "source": []
  }
 ],
 "metadata": {
  "kernelspec": {
   "display_name": "Python 3",
   "language": "python",
   "name": "python3"
  },
  "language_info": {
   "codemirror_mode": {
    "name": "ipython",
    "version": 3
   },
   "file_extension": ".py",
   "mimetype": "text/x-python",
   "name": "python",
   "nbconvert_exporter": "python",
   "pygments_lexer": "ipython3",
   "version": "3.8.8"
  }
 },
 "nbformat": 4,
 "nbformat_minor": 5
}
