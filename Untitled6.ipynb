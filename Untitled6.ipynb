{
 "cells": [
  {
   "cell_type": "code",
   "execution_count": 1,
   "id": "7d01ade6",
   "metadata": {},
   "outputs": [],
   "source": [
    "import matplotlib.pyplot as plt\n",
    "import numpy as np\n",
    "import scipy.optimize as opt\n",
    "import pandas as pd\n",
    "from sklearn.metrics import classification_report\n",
    "import scipy.io as sio"
   ]
  },
  {
   "cell_type": "code",
   "execution_count": 2,
   "id": "ba41f9e9",
   "metadata": {},
   "outputs": [],
   "source": [
    "## 应用1VSall"
   ]
  },
  {
   "cell_type": "code",
   "execution_count": 3,
   "id": "bfabdb28",
   "metadata": {},
   "outputs": [],
   "source": [
    "import matplotlib"
   ]
  },
  {
   "cell_type": "code",
   "execution_count": 4,
   "id": "0c7582a7",
   "metadata": {},
   "outputs": [],
   "source": [
    "path = 'ex3data1.mat'\n",
    "data = sio.loadmat(path)"
   ]
  },
  {
   "cell_type": "code",
   "execution_count": 5,
   "id": "22b0410a",
   "metadata": {},
   "outputs": [],
   "source": [
    "def plot_image(image):\n",
    "    fig,ax=plt.subplots(1,figsize=(1,1))\n",
    "    ax.matshow(image.reshape(20,20),cmap = matplotlib.cm.binary)\n",
    "    "
   ]
  },
  {
   "cell_type": "code",
   "execution_count": 6,
   "id": "63f78ea0",
   "metadata": {},
   "outputs": [
    {
     "data": {
      "text/plain": [
       "array([[0., 0., 0., ..., 0., 0., 0.],\n",
       "       [0., 0., 0., ..., 0., 0., 0.],\n",
       "       [0., 0., 0., ..., 0., 0., 0.],\n",
       "       ...,\n",
       "       [0., 0., 0., ..., 0., 0., 0.],\n",
       "       [0., 0., 0., ..., 0., 0., 0.],\n",
       "       [0., 0., 0., ..., 0., 0., 0.]])"
      ]
     },
     "execution_count": 6,
     "metadata": {},
     "output_type": "execute_result"
    }
   ],
   "source": [
    "data['X']"
   ]
  },
  {
   "cell_type": "code",
   "execution_count": 7,
   "id": "80d982f6",
   "metadata": {},
   "outputs": [],
   "source": [
    "X=data['X']\n",
    "y=data['y']"
   ]
  },
  {
   "cell_type": "code",
   "execution_count": 8,
   "id": "93e7b431",
   "metadata": {},
   "outputs": [
    {
     "data": {
      "text/plain": [
       "(5000, 400)"
      ]
     },
     "execution_count": 8,
     "metadata": {},
     "output_type": "execute_result"
    }
   ],
   "source": [
    "X.shape"
   ]
  },
  {
   "cell_type": "code",
   "execution_count": 9,
   "id": "09472cfe",
   "metadata": {},
   "outputs": [],
   "source": [
    "def sigmoid(z):\n",
    "    return 1/(1+np.exp(-z))"
   ]
  },
  {
   "cell_type": "code",
   "execution_count": 10,
   "id": "57e4ebdb",
   "metadata": {},
   "outputs": [],
   "source": [
    "def cost(theta,X,y):\n",
    "    return np.mean(-y*np.log(sigmoid(X@theta))-(1-y)*np.log(1-sigmoid(X@theta)))"
   ]
  },
  {
   "cell_type": "code",
   "execution_count": 29,
   "id": "9425ef9a",
   "metadata": {},
   "outputs": [],
   "source": [
    "def gradient(theta,X,y):\n",
    "    return np.array((sigmoid(X@theta)-y)@X).ravel()/len(X)"
   ]
  },
  {
   "cell_type": "code",
   "execution_count": null,
   "id": "964bfe0c",
   "metadata": {},
   "outputs": [],
   "source": []
  },
  {
   "cell_type": "code",
   "execution_count": 43,
   "id": "53a16e25",
   "metadata": {},
   "outputs": [],
   "source": [
    "from scipy.optimize import minimize\n",
    "\n",
    "def one_vs_all(X,y,num_labels,a):\n",
    "    rows = X.shape[0]\n",
    "    params = X.shape[1]\n",
    "    ans = np.zeros((params+1,num_labels))\n",
    "    X = np.insert(X,0,values = np.ones(rows),axis=1)\n",
    "    \n",
    "    for i in range(num_labels+1):\n",
    "        theta = np.zeros(params+1)\n",
    "        theta = np.reshape(theta,(1,params+1))\n",
    "        y_i = np.array([1 if label==i else 0 for label in y])\n",
    "        fmin = minimize(fun=cost,x0=theta,args=(X,y_i),method='TNC',jac=gradient)\n",
    "        all_theta[:,i-1] = fmin.x\n",
    "    return all_theta"
   ]
  },
  {
   "cell_type": "code",
   "execution_count": 44,
   "id": "56c7d78f",
   "metadata": {},
   "outputs": [],
   "source": [
    "all_theta = np.zeros((X.shape[1]+1,10))\n"
   ]
  },
  {
   "cell_type": "code",
   "execution_count": 45,
   "id": "ed01c24f",
   "metadata": {},
   "outputs": [
    {
     "name": "stderr",
     "output_type": "stream",
     "text": [
      "<ipython-input-10-f22e899c3d08>:2: RuntimeWarning: divide by zero encountered in log\n",
      "  return np.mean(-y*np.log(sigmoid(X@theta))-(1-y)*np.log(1-sigmoid(X@theta)))\n",
      "<ipython-input-10-f22e899c3d08>:2: RuntimeWarning: invalid value encountered in multiply\n",
      "  return np.mean(-y*np.log(sigmoid(X@theta))-(1-y)*np.log(1-sigmoid(X@theta)))\n",
      "<ipython-input-9-7a57b3e79abb>:2: RuntimeWarning: overflow encountered in exp\n",
      "  return 1/(1+np.exp(-z))\n"
     ]
    }
   ],
   "source": [
    "all_theta = one_vs_all(X,y,10,1)\n"
   ]
  },
  {
   "cell_type": "code",
   "execution_count": 46,
   "id": "9eb8f9cb",
   "metadata": {},
   "outputs": [
    {
     "data": {
      "text/plain": [
       "array([[-6.05726801e+00, -5.53968059e+00, -8.58433297e+00, ...,\n",
       "        -1.32887557e+01, -8.68350387e+00, -1.25484541e+01],\n",
       "       [ 0.00000000e+00,  0.00000000e+00,  0.00000000e+00, ...,\n",
       "         0.00000000e+00,  0.00000000e+00,  0.00000000e+00],\n",
       "       [ 0.00000000e+00,  0.00000000e+00,  0.00000000e+00, ...,\n",
       "         0.00000000e+00,  0.00000000e+00,  0.00000000e+00],\n",
       "       ...,\n",
       "       [ 1.84445122e-02,  4.95581166e-02, -2.55725115e-04, ...,\n",
       "        -6.69606820e+00, -1.91978559e-01,  1.16414470e-03],\n",
       "       [ 2.81693595e-07, -5.55392151e-03, -1.26557197e-06, ...,\n",
       "         7.73348511e-01,  9.67706194e-03,  5.21182784e-05],\n",
       "       [ 0.00000000e+00,  0.00000000e+00,  0.00000000e+00, ...,\n",
       "         0.00000000e+00,  0.00000000e+00,  0.00000000e+00]])"
      ]
     },
     "execution_count": 46,
     "metadata": {},
     "output_type": "execute_result"
    }
   ],
   "source": [
    "all_theta"
   ]
  },
  {
   "cell_type": "code",
   "execution_count": 47,
   "id": "5fd6bfb4",
   "metadata": {},
   "outputs": [],
   "source": [
    "def predict(X,all_theta):\n",
    "    rows = X.shape[0]\n",
    "    params = X.shape[1]\n",
    "    num_labels=10\n",
    "    X=np.insert(X,0,1,axis=1)\n",
    "    X = np.matrix(X)\n",
    "    all_theta=np.matrix(all_theta)\n",
    "    h=sigmoid(X@all_theta)\n",
    "    h_argmax = np.argmax(h,axis=1)\n",
    "    return h_argmax+1"
   ]
  },
  {
   "cell_type": "code",
   "execution_count": 48,
   "id": "e0dd7971",
   "metadata": {},
   "outputs": [],
   "source": [
    "y_pred = predict(X,all_theta)"
   ]
  },
  {
   "cell_type": "code",
   "execution_count": 50,
   "id": "28e4da2d",
   "metadata": {},
   "outputs": [
    {
     "data": {
      "text/plain": [
       "'              precision    recall  f1-score   support\\n\\n           1       1.00      1.00      1.00       500\\n           2       0.97      0.97      0.97       500\\n           3       0.97      0.95      0.96       500\\n           4       0.97      0.98      0.97       500\\n           5       0.98      0.96      0.97       500\\n           6       0.98      0.99      0.99       500\\n           7       0.96      0.97      0.97       500\\n           8       0.96      0.97      0.96       500\\n           9       0.95      0.95      0.95       500\\n          10       0.99      1.00      1.00       500\\n\\n    accuracy                           0.97      5000\\n   macro avg       0.97      0.97      0.97      5000\\nweighted avg       0.97      0.97      0.97      5000\\n'"
      ]
     },
     "execution_count": 50,
     "metadata": {},
     "output_type": "execute_result"
    }
   ],
   "source": [
    "classification_report(y,y_pred)"
   ]
  },
  {
   "cell_type": "code",
   "execution_count": null,
   "id": "906eff64",
   "metadata": {},
   "outputs": [],
   "source": []
  }
 ],
 "metadata": {
  "kernelspec": {
   "display_name": "Python 3",
   "language": "python",
   "name": "python3"
  },
  "language_info": {
   "codemirror_mode": {
    "name": "ipython",
    "version": 3
   },
   "file_extension": ".py",
   "mimetype": "text/x-python",
   "name": "python",
   "nbconvert_exporter": "python",
   "pygments_lexer": "ipython3",
   "version": "3.8.8"
  }
 },
 "nbformat": 4,
 "nbformat_minor": 5
}
